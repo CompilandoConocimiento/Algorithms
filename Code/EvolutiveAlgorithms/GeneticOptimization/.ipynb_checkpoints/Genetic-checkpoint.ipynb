{
 "cells": [
  {
   "cell_type": "code",
   "execution_count": 19,
   "metadata": {},
   "outputs": [],
   "source": [
    "from math import ceil, floor, log10\n",
    "from random import random\n",
    "from bitarray import bitarray"
   ]
  },
  {
   "cell_type": "code",
   "execution_count": 15,
   "metadata": {},
   "outputs": [],
   "source": [
    "limits = [\n",
    "    [-5, 5]\n",
    "]"
   ]
  },
  {
   "cell_type": "markdown",
   "metadata": {},
   "source": [
    "### Note: \n",
    "\n",
    "A gen is a sequence of 1 and 0,for example `[010101]`\n",
    "\n",
    "and it is split in each coordinate `[[01], [0101]]`"
   ]
  },
  {
   "cell_type": "code",
   "execution_count": 48,
   "metadata": {},
   "outputs": [
    {
     "name": "stdout",
     "output_type": "stream",
     "text": [
      "[7]\n",
      "7\n"
     ]
    }
   ],
   "source": [
    "precisitionBits = 1\n",
    "\n",
    "def getNumberOfBits(rangeOfValues, precisitionBits):\n",
    "    return ceil(log10(rangeOfValues * 10 ** precisitionBits) / log10(2))\n",
    "\n",
    "def getRange(limit): return limit[1] - limit[0]\n",
    "\n",
    "sizeOfEachGen = [getNumberOfBits(getRange(limit), precisitionBits) for limit in limits]\n",
    "genTotalSize = sum(sizeOfEachGen)\n",
    "\n",
    "print(sizeOfEachGen)\n",
    "print(genTotalSize)"
   ]
  },
  {
   "cell_type": "code",
   "execution_count": 64,
   "metadata": {},
   "outputs": [
    {
     "name": "stdout",
     "output_type": "stream",
     "text": [
      "[bitarray('1111111'), bitarray('0000000'), bitarray('0101010')]\n"
     ]
    }
   ],
   "source": [
    "specialPoblation = [\n",
    "    bitarray([True for i in range(numberOfBits)]),\n",
    "    bitarray([False for i in range(numberOfBits)]),\n",
    "    bitarray([i % 2 for i in range(numberOfBits)]),\n",
    "]\n",
    "\n",
    "randomPoblation = [bitarray(genTotalSize) for i in range(3)]\n",
    "\n",
    "poblation = specialPoblation\n",
    "print(poblation)"
   ]
  },
  {
   "cell_type": "code",
   "execution_count": 59,
   "metadata": {},
   "outputs": [
    {
     "name": "stdout",
     "output_type": "stream",
     "text": [
      "[[10.0], [0.0], [3.3070866141732282]]\n"
     ]
    }
   ],
   "source": [
    "def calculateValue(gen, rangeOfValues):\n",
    "    jump = (rangeOfValues) / (2 ** numberOfBits - 1)  \n",
    "    return jump * int(gen.to01(), 2)\n",
    "\n",
    "def getCoordinateValue(gen, sizeOfEachGen, limits):\n",
    "    results = []\n",
    "    actualPosition = 0\n",
    "    for i, size in enumerate(sizeOfEachGen):\n",
    "        currentGen = gen[actualPosition: actualPosition + size]\n",
    "        results.append(calculateValue(currentGen, getRange(limits[i])))\n",
    "        actualPosition += size\n",
    "    \n",
    "    return results\n",
    "\n",
    "print ([getCoordinateValue(bob, sizeOfEachGen, limits) for bob in poblation])"
   ]
  },
  {
   "cell_type": "code",
   "execution_count": null,
   "metadata": {},
   "outputs": [],
   "source": []
  }
 ],
 "metadata": {
  "kernelspec": {
   "display_name": "Python 3",
   "language": "python",
   "name": "python3"
  },
  "language_info": {
   "codemirror_mode": {
    "name": "ipython",
    "version": 3
   },
   "file_extension": ".py",
   "mimetype": "text/x-python",
   "name": "python",
   "nbconvert_exporter": "python",
   "pygments_lexer": "ipython3",
   "version": "3.7.0"
  }
 },
 "nbformat": 4,
 "nbformat_minor": 2
}
