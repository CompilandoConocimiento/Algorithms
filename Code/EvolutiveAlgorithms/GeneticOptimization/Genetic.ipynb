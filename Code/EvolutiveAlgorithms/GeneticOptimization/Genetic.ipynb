{
 "cells": [
  {
   "cell_type": "code",
   "execution_count": 58,
   "metadata": {},
   "outputs": [],
   "source": [
    "from math import ceil, floor, log10, sqrt, exp, pi\n",
    "from random import random, uniform\n",
    "import numpy as np\n",
    "import matplotlib.pyplot as plt\n",
    "from bitarray import bitarray"
   ]
  },
  {
   "cell_type": "markdown",
   "metadata": {},
   "source": [
    " Get the limits of the point in each coordinate"
   ]
  },
  {
   "cell_type": "code",
   "execution_count": 76,
   "metadata": {},
   "outputs": [],
   "source": [
    "limits = [\n",
    "    [-5, 5]\n",
    "]\n",
    "\n",
    "restrictions = [\n",
    "    lambda point: True,\n",
    "]\n",
    "\n",
    "\n",
    "def toAllRestrictions(data, restrictions):\n",
    "    for restriction in restrictions:\n",
    "        if restriction(data) == False: return False\n",
    "    \n",
    "    return True\n"
   ]
  },
  {
   "cell_type": "markdown",
   "metadata": {},
   "source": [
    "### Note: \n",
    "\n",
    "A gen is a sequence of 1 and 0,for example `[010101]`\n",
    "\n",
    "and it is split in each coordinate `[[01], [0101]]`\n",
    "\n",
    "So what we are going to do is calculate each gen size"
   ]
  },
  {
   "cell_type": "code",
   "execution_count": 14,
   "metadata": {},
   "outputs": [
    {
     "name": "stdout",
     "output_type": "stream",
     "text": [
      "[7]\n",
      "7\n"
     ]
    }
   ],
   "source": [
    "precisitionBits = 1\n",
    "\n",
    "def getNumberOfBits(rangeOfValues, precisitionBits):\n",
    "    return ceil(log10(rangeOfValues * 10 ** precisitionBits) / log10(2))\n",
    "\n",
    "def getRange(limit): return limit[1] - limit[0]\n",
    "\n",
    "sizeOfEachGen = [getNumberOfBits(getRange(limit), precisitionBits) for limit in limits]\n",
    "genTotalSize = sum(sizeOfEachGen)\n",
    "\n",
    "print(sizeOfEachGen)\n",
    "print(genTotalSize)"
   ]
  },
  {
   "cell_type": "markdown",
   "metadata": {},
   "source": [
    "Create an initial poblation"
   ]
  },
  {
   "cell_type": "code",
   "execution_count": 74,
   "metadata": {},
   "outputs": [
    {
     "name": "stdout",
     "output_type": "stream",
     "text": [
      "[bitarray('1111111'), bitarray('0000000'), bitarray('1010101')]\n"
     ]
    }
   ],
   "source": [
    "def getRandomBob():\n",
    "    return bitarray([(random() > 0.5) for i in range(genTotalSize)])\n",
    "\n",
    "specialPoblation = [\n",
    "    bitarray([True for i in range(genTotalSize)]),\n",
    "    bitarray([False for i in range(genTotalSize)]),\n",
    "    bitarray([i % 2 == False for i in range(genTotalSize)]),\n",
    "]\n",
    "\n",
    "randomPoblation = [bitarray(genTotalSize) for i in range(3)]\n",
    "\n",
    "poblation = specialPoblation\n",
    "print(poblation)"
   ]
  },
  {
   "cell_type": "markdown",
   "metadata": {},
   "source": [
    "Now create the points that represent the poblation"
   ]
  },
  {
   "cell_type": "code",
   "execution_count": 78,
   "metadata": {},
   "outputs": [
    {
     "name": "stdout",
     "output_type": "stream",
     "text": [
      "[[5.0], [-5.0], [1.6929133858267713]]\n"
     ]
    }
   ],
   "source": [
    "def calculateValue(gen, limit):\n",
    "    rangeOfValues = getRange(limit)\n",
    "    jump = (rangeOfValues) / (2 ** gen.length() - 1)  \n",
    "    return jump * int(gen.to01(), 2) + limit[0]\n",
    "\n",
    "def getCoordinateValue(gen, sizeOfEachGen, limits):\n",
    "    results = []\n",
    "    actualPosition = 0\n",
    "    for i, size in enumerate(sizeOfEachGen):\n",
    "        currentGen = gen[actualPosition: actualPosition + size]\n",
    "        results.append(calculateValue(currentGen, limits[i]))\n",
    "        actualPosition += size\n",
    "    \n",
    "    return results\n",
    "\n",
    "\n",
    "def getValidPoblation(poblation, restrictions):\n",
    "    for bob in poblation:\n",
    "        \n",
    "        value = getCoordinateValue(bob, sizeOfEachGen, limits)\n",
    "        while (toAllRestrictions(value, restrictions) == False):\n",
    "            bob = getRandomBob()\n",
    "            value = getCoordinateValue(bob, sizeOfEachGen, limits)\n",
    "    return poblation\n",
    "\n",
    "\n",
    "poblation = getValidPoblation(poblation, restrictions)\n",
    "\n",
    "poblationAsPoints = ([getCoordinateValue(bob, sizeOfEachGen, limits) for bob in poblation])\n",
    "print (poblationAsPoints)"
   ]
  },
  {
   "cell_type": "markdown",
   "metadata": {},
   "source": [
    "Define the z function"
   ]
  },
  {
   "cell_type": "code",
   "execution_count": 34,
   "metadata": {},
   "outputs": [],
   "source": [
    "def z(point):\n",
    "    return exp(-0.5 * point * point) / sqrt(2 * pi)"
   ]
  },
  {
   "cell_type": "code",
   "execution_count": 35,
   "metadata": {},
   "outputs": [
    {
     "data": {
      "image/png": "[encoded data removed]",
      "text/plain": [
       "<Figure size 432x288 with 1 Axes>"
      ]
     },
     "metadata": {
      "needs_background": "light"
     },
     "output_type": "display_data"
    }
   ],
   "source": [
    "sample = np.linspace(-6, 6, 100)\n",
    "y = [z(point) for point in sample]\n",
    "\n",
    "plt.plot(sample, y)\n",
    "plt.show()"
   ]
  },
  {
   "cell_type": "markdown",
   "metadata": {},
   "source": [
    "Get the acumulate of the points"
   ]
  },
  {
   "cell_type": "code",
   "execution_count": 79,
   "metadata": {},
   "outputs": [
    {
     "name": "stdout",
     "output_type": "stream",
     "text": [
      "[1.4867195147342979e-06, 1.4867195147342979e-06, 0.09518657184704732]\n",
      "[0.0015618516826256526, 0.003123703365251305, 100.0]\n"
     ]
    }
   ],
   "source": [
    "poblationValues = [z(point[0]) for point in poblationAsPoints]\n",
    "print(poblationValues)\n",
    "\n",
    "sumOfZ = sum(poblationValues)\n",
    "poblationValuesPercentage = [value / sumOfZ * 100 for value in poblationValues]\n",
    "\n",
    "poblationAcumulates = [None] * len(poblation)\n",
    "poblationAcumulates[0] = poblationValuesPercentage[0]\n",
    "\n",
    "for i in range(1, len(poblation)):\n",
    "    poblationAcumulates[i] = poblationAcumulates[i-1] + poblationValuesPercentage[i]\n",
    "\n",
    "print (poblationAcumulates)"
   ]
  },
  {
   "cell_type": "markdown",
   "metadata": {},
   "source": [
    "Create n random numbers"
   ]
  },
  {
   "cell_type": "code",
   "execution_count": 100,
   "metadata": {},
   "outputs": [
    {
     "name": "stdout",
     "output_type": "stream",
     "text": [
      "[8.903660448163652, 85.16579480631465, 3.341193673758047]\n"
     ]
    }
   ],
   "source": [
    "randomNumbers = [uniform(0, 100) for i in range(len(poblation))]\n",
    "print (randomNumbers)"
   ]
  },
  {
   "cell_type": "code",
   "execution_count": 101,
   "metadata": {},
   "outputs": [
    {
     "name": "stdout",
     "output_type": "stream",
     "text": [
      "[bitarray('1010101')]\n"
     ]
    }
   ],
   "source": [
    "toBeSaved = set()\n",
    "\n",
    "for number in randomNumbers:\n",
    "    i = 0\n",
    "    while (poblationAcumulates[i] < number): i += 1\n",
    "    toBeSaved.add(i)\n",
    "\n",
    "newPoblation = []\n",
    "for savedIndex in toBeSaved:\n",
    "    newPoblation.append(poblation[savedIndex])\n",
    "    \n",
    "print (newPoblation)"
   ]
  },
  {
   "cell_type": "code",
   "execution_count": null,
   "metadata": {},
   "outputs": [],
   "source": []
  }
 ],
 "metadata": {
  "kernelspec": {
   "display_name": "Python 3",
   "language": "python",
   "name": "python3"
  },
  "language_info": {
   "codemirror_mode": {
    "name": "ipython",
    "version": 3
   },
   "file_extension": ".py",
   "mimetype": "text/x-python",
   "name": "python",
   "nbconvert_exporter": "python",
   "pygments_lexer": "ipython3",
   "version": "3.7.0"
  }
 },
 "nbformat": 4,
 "nbformat_minor": 2
}
